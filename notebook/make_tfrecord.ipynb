{
 "cells": [
  {
   "cell_type": "code",
   "execution_count": null,
   "metadata": {},
   "outputs": [],
   "source": [
    "import tensorflow as tf\n",
    "import numpy as np\n",
    "import pandas as pd\n",
    "import os\n",
    "from tqdm import tqdm\n",
    "from joblib import Parallel, delayed\n",
    "import matplotlib.pyplot as plt\n",
    "import tensorflow_datasets as tfds\n",
    "from functools import partial\n",
    "from sklearn.model_selection import StratifiedKFold"
   ]
  },
  {
   "cell_type": "code",
   "execution_count": null,
   "metadata": {},
   "outputs": [],
   "source": [
    "import sys\n",
    "sys.path.append('../src')\n",
    "\n",
    "from dataset import CassavaLeafDataModule"
   ]
  },
  {
   "cell_type": "code",
   "execution_count": null,
   "metadata": {},
   "outputs": [],
   "source": [
    "def _bytes_feature(value):\n",
    "    \"\"\"Returns a bytes_list from a string / byte.\"\"\"\n",
    "    if isinstance(value, type(tf.constant(0))):\n",
    "        value = value.numpy() # BytesList won't unpack a string from an EagerTensor.\n",
    "    return tf.train.Feature(bytes_list=tf.train.BytesList(value=[value]))\n",
    " \n",
    "def _float_feature(value):\n",
    "    \"\"\"Returns a float_list from a float / double.\"\"\"\n",
    "    return tf.train.Feature(float_list=tf.train.FloatList(value=value.reshape(-1)))\n",
    " \n",
    "def _int64_feature(value):\n",
    "    \"\"\"Returns an int64_list from a bool / enum / int / uint.\"\"\"\n",
    "    return tf.train.Feature(int64_list=tf.train.Int64List(value=[value]))\n",
    "\n",
    "def serialize_example(feature1, feature2):\n",
    "    feature = {\n",
    "        'image': _float_feature(feature1),\n",
    "        'target': _float_feature(feature2)\n",
    "    }\n",
    "    example_proto = tf.train.Example(features=tf.train.Features(feature=feature))\n",
    "    return example_proto.SerializeToString()\n",
    " \n",
    " # Read image and resize it\n",
    "def read_image(image_path):\n",
    "    img = cv2.imread(image_path)\n",
    "    img = cv2.cvtColor(img, cv2.COLOR_BGR2RGB)\n",
    "    return img\n",
    "\n",
    "def write_file(data, torv, foldi):\n",
    "    pbar = tqdm(total=len(data))\n",
    "    len_file = len(data) // 1000 + 1\n",
    "    for fi in range(len_file):\n",
    "        path = '../tfrecord/fold{}/{}{:02}.tfrec'.format(foldi, torv, fi)\n",
    "        with tf.io.TFRecordWriter(path) as writer:\n",
    "            for i in range(fi * 1000, min((fi+1)*1000, len(data))):\n",
    "                img, target = data[i]\n",
    "                example = serialize_example(img, target)\n",
    "                writer.write(example)\n",
    "                pbar.update(1)\n",
    "        \n",
    "\n",
    "def get_tf_records(df, trn_idx, val_idx, fold):\n",
    "    os.makedirs(f'../tfrecord/fold{fold}', exist_ok=True)\n",
    "    dm = CassavaLeafDataModule(df, trn_idx, val_idx)\n",
    "    dm.setup()\n",
    "    dt, dv = dm.train_dataset, dm.val_dataset\n",
    "    write_file(dt, 'train', fold)\n",
    "    write_file(dv, 'val', fold)\n",
    "        "
   ]
  },
  {
   "cell_type": "code",
   "execution_count": null,
   "metadata": {},
   "outputs": [],
   "source": [
    "import time"
   ]
  },
  {
   "cell_type": "code",
   "execution_count": null,
   "metadata": {},
   "outputs": [],
   "source": [
    "df_train = pd.read_csv('../input/train.csv')\n",
    "folds = StratifiedKFold(\n",
    "    n_splits=5,\n",
    "    shuffle=True,\n",
    "    random_state=1).split(\n",
    "        np.arange(df_train.shape[0]), df_train.label.values)\n",
    "for fold, (trn_idx, val_idx) in enumerate(folds):\n",
    "    dm = CassavaLeafDataModule(df_train, trn_idx, val_idx)\n",
    "    dm.setup()\n",
    "    dt, dv = dm.train_dataset, dm.val_dataset\n",
    "    loader = dm.train_dataloader()\n",
    "    t = time.time()\n",
    "    for i, _ in enumerate(loader):\n",
    "        if i == 100:\n",
    "            break\n",
    "    print(time.time()-t)\n",
    "    break"
   ]
  },
  {
   "cell_type": "code",
   "execution_count": null,
   "metadata": {},
   "outputs": [],
   "source": [
    "df_train = pd.read_csv('../input/train.csv')\n",
    "folds = StratifiedKFold(\n",
    "    n_splits=5,\n",
    "    shuffle=True,\n",
    "    random_state=1).split(\n",
    "        np.arange(df_train.shape[0]), df_train.label.values)"
   ]
  },
  {
   "cell_type": "code",
   "execution_count": null,
   "metadata": {},
   "outputs": [],
   "source": [
    "Parallel(n_jobs=4)([delayed(get_tf_records)(df_train, trn_idx, val_idx, fold) for fold, (trn_idx, val_idx) in enumerate(folds)])"
   ]
  },
  {
   "cell_type": "code",
   "execution_count": 7,
   "metadata": {},
   "outputs": [],
   "source": [
    "import torch\n",
    "import glob\n",
    "from tfrecord.torch.dataset import MultiTFRecordDataset\n",
    "\n",
    "tfrecord_pattern = \"../tfrecord/fold0/train{}.tfrec\"\n",
    "len_file = len(glob.glob(tfrecord_pattern.format('*')))\n",
    "splits = dict(zip(['{:02}'.format(i) for i in range(len_file)], [1/len_file]*len_file))"
   ]
  },
  {
   "cell_type": "code",
   "execution_count": 8,
   "metadata": {},
   "outputs": [],
   "source": [
    "description = {\"image\": \"float\", \"target\": \"float\"}\n",
    "dataset = MultiTFRecordDataset(tfrecord_pattern, None, splits, description)\n",
    "loader = torch.utils.data.DataLoader(dataset, batch_size=32, num_workers=4)"
   ]
  },
  {
   "cell_type": "code",
   "execution_count": 9,
   "metadata": {},
   "outputs": [
    {
     "output_type": "stream",
     "name": "stdout",
     "text": [
      "35.40824294090271\n"
     ]
    }
   ],
   "source": [
    "t = time.time()\n",
    "for i, _ in enumerate(loader):\n",
    "    if i == 100:\n",
    "        break\n",
    "print(time.time() - t)"
   ]
  },
  {
   "cell_type": "code",
   "execution_count": null,
   "metadata": {},
   "outputs": [],
   "source": []
  }
 ],
 "metadata": {
  "kernelspec": {
   "display_name": "Python 3",
   "language": "python",
   "name": "python3"
  },
  "language_info": {
   "codemirror_mode": {
    "name": "ipython",
    "version": 3
   },
   "file_extension": ".py",
   "mimetype": "text/x-python",
   "name": "python",
   "nbconvert_exporter": "python",
   "pygments_lexer": "ipython3",
   "version": "3.7.3-final"
  }
 },
 "nbformat": 4,
 "nbformat_minor": 2
}